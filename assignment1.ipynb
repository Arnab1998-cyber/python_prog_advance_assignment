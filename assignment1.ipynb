{
 "cells": [
  {
   "cell_type": "code",
   "execution_count": 5,
   "id": "da5d2122",
   "metadata": {},
   "outputs": [],
   "source": [
    "#1. \n",
    "\n",
    "def check_score(l):\n",
    "    try:\n",
    "        d={'#':5, 'O':3, 'X':1, '!':-1, '!!':-3, '!!!':-5}\n",
    "        sum=0\n",
    "        for i in l:\n",
    "            for j in i:\n",
    "                sum=sum+d[j]\n",
    "        if sum < 0:\n",
    "            return 0\n",
    "        else:\n",
    "            return sum\n",
    "    except:\n",
    "        return 'enter the values between \"#,O,X,!,!!,!!!\"'"
   ]
  },
  {
   "cell_type": "code",
   "execution_count": 2,
   "id": "b7c8ff94",
   "metadata": {},
   "outputs": [
    {
     "data": {
      "text/plain": [
       "2"
      ]
     },
     "execution_count": 2,
     "metadata": {},
     "output_type": "execute_result"
    }
   ],
   "source": [
    "check_score([['#', '!'], ['!!', 'X']])"
   ]
  },
  {
   "cell_type": "code",
   "execution_count": 3,
   "id": "c6e19b0a",
   "metadata": {},
   "outputs": [
    {
     "data": {
      "text/plain": [
       "0"
      ]
     },
     "execution_count": 3,
     "metadata": {},
     "output_type": "execute_result"
    }
   ],
   "source": [
    "check_score([['!!!', 'O', '!'], ['X', '#', '!!!'],['!!', 'X', 'O']])"
   ]
  },
  {
   "cell_type": "code",
   "execution_count": 4,
   "id": "2487cd74",
   "metadata": {},
   "outputs": [
    {
     "data": {
      "text/plain": [
       "8"
      ]
     },
     "execution_count": 4,
     "metadata": {},
     "output_type": "execute_result"
    }
   ],
   "source": [
    "check_score([['#', '#'], ['O'], ['!!!']])"
   ]
  },
  {
   "cell_type": "code",
   "execution_count": 6,
   "id": "80384801",
   "metadata": {},
   "outputs": [
    {
     "data": {
      "text/plain": [
       "'enter the values between \"#,O,X,!,!!,!!!\"'"
      ]
     },
     "execution_count": 6,
     "metadata": {},
     "output_type": "execute_result"
    }
   ],
   "source": [
    "check_score([['A']])"
   ]
  },
  {
   "cell_type": "code",
   "execution_count": 8,
   "id": "4d26c068",
   "metadata": {},
   "outputs": [],
   "source": [
    "#2. \n",
    "\n",
    "def combination(*args):\n",
    "    m=1\n",
    "    for i in args:\n",
    "        m=m*i\n",
    "    return m"
   ]
  },
  {
   "cell_type": "code",
   "execution_count": 9,
   "id": "24b4d7f4",
   "metadata": {},
   "outputs": [
    {
     "data": {
      "text/plain": [
       "84"
      ]
     },
     "execution_count": 9,
     "metadata": {},
     "output_type": "execute_result"
    }
   ],
   "source": [
    "combination(3,7,4)"
   ]
  },
  {
   "cell_type": "code",
   "execution_count": 15,
   "id": "d64f8610",
   "metadata": {},
   "outputs": [],
   "source": [
    "#3.\n",
    "\n",
    "def encode_morse(s):\n",
    "    d={'A': '.-', 'B': '-...', 'C': '-.-.', 'D': '-..', 'E': '.', 'F': '..-.',\n",
    "  'G': '--.', 'H': '....', 'I': '..', 'J': '.---', 'K': '-.-', 'L': '.-..',\n",
    "  'M': '--', 'N': '-.', 'O': '---', 'P': '.--.', 'Q': '--.-', 'R': '.-.',\n",
    "  'S': '...', 'T': '-', 'U': '..-', 'V': '...-', 'W': '.--', 'X': '-..-',\n",
    "  'Y': '-.--', 'Z': '--..', ' ': ' ', '0': '-----',\n",
    "  '1': '.----', '2': '..---', '3': '...--', '4': '....-', '5': '.....',\n",
    "  '6': '-....', '7': '--...', '8': '---..', '9': '----.',\n",
    "  '&': '.-...', \"'\": '.----.', '@': '.--.-.', ')': '-.--.-', '(': '-.--.',\n",
    "  ':': '---...', ',': '--..--', '=': '-...-', '!': '-.-.--', '.': '.-.-.-',\n",
    "  '-': '-....-', '+': '.-.-.', '\"': '.-..-.', '?': '..--..', '/': '-..-.'}\n",
    "    s1=''\n",
    "    for i in s:\n",
    "        s1=s1+' '+d[i]\n",
    "    s1=s1.lstrip()\n",
    "    return s1"
   ]
  },
  {
   "cell_type": "code",
   "execution_count": 16,
   "id": "daab5653",
   "metadata": {},
   "outputs": [
    {
     "data": {
      "text/plain": [
       "'.... . .-.. .--.   -- . -.-.--'"
      ]
     },
     "execution_count": 16,
     "metadata": {},
     "output_type": "execute_result"
    }
   ],
   "source": [
    "encode_morse(\"HELP ME!\")"
   ]
  },
  {
   "cell_type": "code",
   "execution_count": 20,
   "id": "33391be6",
   "metadata": {},
   "outputs": [],
   "source": [
    "#5\n",
    "\n",
    "def to_booolean_list(s):\n",
    "    d={'a':1,'b':2,'c':3,'d':4,'e':5,'f':6,'g':7,'h':8,'i':9,'j':10,'k':11,'l':12,'m':13,'n':14,'o':15,\n",
    "      \n",
    "      'p':16,'q':17,'r':18,'s':19,'t':20,'u':21,'v':22,'w':23,'x':24,'y':25,'z':26}\n",
    "    l=[]\n",
    "    for i in s:\n",
    "        if d[i]%2==0:\n",
    "            l.append(0)\n",
    "        else:\n",
    "            l.append(1)\n",
    "    for i in range(len(l)):\n",
    "        if l[i]==0:\n",
    "            l[i]=False\n",
    "        if l[i]==1:\n",
    "            l[i]=True\n",
    "    return l"
   ]
  },
  {
   "cell_type": "code",
   "execution_count": 21,
   "id": "7b1f009d",
   "metadata": {},
   "outputs": [
    {
     "data": {
      "text/plain": [
       "[False, True, True, False]"
      ]
     },
     "execution_count": 21,
     "metadata": {},
     "output_type": "execute_result"
    }
   ],
   "source": [
    "to_booolean_list('deep')"
   ]
  },
  {
   "cell_type": "code",
   "execution_count": null,
   "id": "a7a3558c",
   "metadata": {},
   "outputs": [],
   "source": []
  }
 ],
 "metadata": {
  "kernelspec": {
   "display_name": "Python 3 (ipykernel)",
   "language": "python",
   "name": "python3"
  },
  "language_info": {
   "codemirror_mode": {
    "name": "ipython",
    "version": 3
   },
   "file_extension": ".py",
   "mimetype": "text/x-python",
   "name": "python",
   "nbconvert_exporter": "python",
   "pygments_lexer": "ipython3",
   "version": "3.9.7"
  }
 },
 "nbformat": 4,
 "nbformat_minor": 5
}
