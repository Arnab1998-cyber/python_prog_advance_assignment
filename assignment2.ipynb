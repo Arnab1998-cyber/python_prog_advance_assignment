{
 "cells": [
  {
   "cell_type": "code",
   "execution_count": 8,
   "id": "89bc5c1a",
   "metadata": {},
   "outputs": [],
   "source": [
    "#1.\n",
    "\n",
    "def pentagonal(n):\n",
    "    sum=1\n",
    "    for i in range(1,n+1):\n",
    "        sum=sum+(5*i-5)\n",
    "    return sum"
   ]
  },
  {
   "cell_type": "code",
   "execution_count": 9,
   "id": "4b9b757b",
   "metadata": {},
   "outputs": [
    {
     "data": {
      "text/plain": [
       "1"
      ]
     },
     "execution_count": 9,
     "metadata": {},
     "output_type": "execute_result"
    }
   ],
   "source": [
    "pentagonal(1)"
   ]
  },
  {
   "cell_type": "code",
   "execution_count": 10,
   "id": "83502235",
   "metadata": {},
   "outputs": [
    {
     "data": {
      "text/plain": [
       "6"
      ]
     },
     "execution_count": 10,
     "metadata": {},
     "output_type": "execute_result"
    }
   ],
   "source": [
    "pentagonal(2)"
   ]
  },
  {
   "cell_type": "code",
   "execution_count": 11,
   "id": "85dab538",
   "metadata": {},
   "outputs": [
    {
     "data": {
      "text/plain": [
       "16"
      ]
     },
     "execution_count": 11,
     "metadata": {},
     "output_type": "execute_result"
    }
   ],
   "source": [
    "pentagonal(3)"
   ]
  },
  {
   "cell_type": "code",
   "execution_count": 12,
   "id": "44d704bf",
   "metadata": {},
   "outputs": [
    {
     "data": {
      "text/plain": [
       "141"
      ]
     },
     "execution_count": 12,
     "metadata": {},
     "output_type": "execute_result"
    }
   ],
   "source": [
    "pentagonal(8)"
   ]
  },
  {
   "cell_type": "code",
   "execution_count": 15,
   "id": "4a4fbe1a",
   "metadata": {},
   "outputs": [],
   "source": [
    "#2.\n",
    "\n",
    "def encrypt(s):\n",
    "    s1=''\n",
    "    for i in range(1,len(s)+1):\n",
    "        s1=s1+s[-i]\n",
    "    d={'a':'0','e':'1','i':'2','o':'2','u':'3'}\n",
    "    for i in s1:\n",
    "        if i in 'aeiou':\n",
    "            s1=s1.replace(i, d[i])\n",
    "    s1=s1+'aca'\n",
    "    return s1"
   ]
  },
  {
   "cell_type": "code",
   "execution_count": 16,
   "id": "f97f9819",
   "metadata": {},
   "outputs": [
    {
     "data": {
      "text/plain": [
       "'1lpp0aca'"
      ]
     },
     "execution_count": 16,
     "metadata": {},
     "output_type": "execute_result"
    }
   ],
   "source": [
    "encrypt('apple')"
   ]
  },
  {
   "cell_type": "code",
   "execution_count": 17,
   "id": "13371d66",
   "metadata": {},
   "outputs": [
    {
     "data": {
      "text/plain": [
       "'0n0n0baca'"
      ]
     },
     "execution_count": 17,
     "metadata": {},
     "output_type": "execute_result"
    }
   ],
   "source": [
    "encrypt('banana')"
   ]
  },
  {
   "cell_type": "code",
   "execution_count": 18,
   "id": "822b24b8",
   "metadata": {},
   "outputs": [],
   "source": [
    "#3.\n",
    "\n",
    "def has_friday_13(month,year):\n",
    "    import datetime\n",
    "    return datetime.date(year,month,13).strftime('%A')=='Friday'\n"
   ]
  },
  {
   "cell_type": "code",
   "execution_count": 19,
   "id": "9b6a5120",
   "metadata": {},
   "outputs": [
    {
     "data": {
      "text/plain": [
       "True"
      ]
     },
     "execution_count": 19,
     "metadata": {},
     "output_type": "execute_result"
    }
   ],
   "source": [
    "has_friday_13(3,2020)"
   ]
  },
  {
   "cell_type": "code",
   "execution_count": 24,
   "id": "511c0341",
   "metadata": {},
   "outputs": [],
   "source": [
    "#5. \n",
    "\n",
    "def pluralize(l):\n",
    "    m=[]\n",
    "    for i in l:\n",
    "        if l.count(i)>1:\n",
    "            m.append(i+'s')\n",
    "        if l.count(i)==1:\n",
    "            m.append(i)\n",
    "    return set(m)"
   ]
  },
  {
   "cell_type": "code",
   "execution_count": 25,
   "id": "5dcaab9e",
   "metadata": {},
   "outputs": [
    {
     "data": {
      "text/plain": [
       "{'cows', 'pig'}"
      ]
     },
     "execution_count": 25,
     "metadata": {},
     "output_type": "execute_result"
    }
   ],
   "source": [
    "pluralize(['cow','pig','cow','cow'])"
   ]
  },
  {
   "cell_type": "code",
   "execution_count": null,
   "id": "c36c2ec9",
   "metadata": {},
   "outputs": [],
   "source": []
  }
 ],
 "metadata": {
  "kernelspec": {
   "display_name": "Python 3 (ipykernel)",
   "language": "python",
   "name": "python3"
  },
  "language_info": {
   "codemirror_mode": {
    "name": "ipython",
    "version": 3
   },
   "file_extension": ".py",
   "mimetype": "text/x-python",
   "name": "python",
   "nbconvert_exporter": "python",
   "pygments_lexer": "ipython3",
   "version": "3.9.7"
  }
 },
 "nbformat": 4,
 "nbformat_minor": 5
}
