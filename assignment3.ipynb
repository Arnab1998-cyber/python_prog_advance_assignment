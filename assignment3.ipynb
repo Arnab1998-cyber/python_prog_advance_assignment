{
 "cells": [
  {
   "cell_type": "code",
   "execution_count": 8,
   "id": "db958683",
   "metadata": {},
   "outputs": [],
   "source": [
    "#1.\n",
    "\n",
    "def arithmetic_operation(s):\n",
    "    if '+' in s:\n",
    "        l=s.split('+')\n",
    "        return int(l[0])+int(l[1])\n",
    "    if '-' in s:\n",
    "        l=s.split('-')\n",
    "        return int(l[0])-int(l[1])\n",
    "    if '*' in s:\n",
    "        l=s.split('*')\n",
    "        return int(l[0])*int(l[1])\n",
    "    if '//' in s:\n",
    "        l=s.split('//')\n",
    "        if l[1]=='0':\n",
    "            return -1\n",
    "        else:\n",
    "            return int(l[0])//int(l[1])"
   ]
  },
  {
   "cell_type": "code",
   "execution_count": 9,
   "id": "a8d02c53",
   "metadata": {},
   "outputs": [
    {
     "data": {
      "text/plain": [
       "24"
      ]
     },
     "execution_count": 9,
     "metadata": {},
     "output_type": "execute_result"
    }
   ],
   "source": [
    "arithmetic_operation('12+12')"
   ]
  },
  {
   "cell_type": "code",
   "execution_count": 10,
   "id": "dbeb4f0e",
   "metadata": {},
   "outputs": [
    {
     "data": {
      "text/plain": [
       "-1"
      ]
     },
     "execution_count": 10,
     "metadata": {},
     "output_type": "execute_result"
    }
   ],
   "source": [
    "arithmetic_operation('11//0')"
   ]
  },
  {
   "cell_type": "code",
   "execution_count": 11,
   "id": "c0ab3366",
   "metadata": {},
   "outputs": [],
   "source": [
    "#2. \n",
    "\n",
    "def perimeter(l):\n",
    "    a=((l[0][0]-l[1][0])**2+(l[0][1]-l[1][1])**2)**0.5\n",
    "    b=((l[1][0]-l[2][0])**2+(l[1][1]-l[2][1])**2)**0.5\n",
    "    c=((l[2][0]-l[0][0])**2+(l[2][1]-l[0][1])**2)**0.5\n",
    "    return round(a+b+c, 2)"
   ]
  },
  {
   "cell_type": "code",
   "execution_count": 12,
   "id": "ef7e68eb",
   "metadata": {},
   "outputs": [
    {
     "data": {
      "text/plain": [
       "47.08"
      ]
     },
     "execution_count": 12,
     "metadata": {},
     "output_type": "execute_result"
    }
   ],
   "source": [
    "perimeter([[15,7],[5,22],[11,1]])"
   ]
  },
  {
   "cell_type": "code",
   "execution_count": 23,
   "id": "bf33e87e",
   "metadata": {},
   "outputs": [],
   "source": [
    "#3.\n",
    "\n",
    "def tallest_skyscraper(l):\n",
    "    m=[]\n",
    "    sum=0\n",
    "    n=len(l)\n",
    "    k=len(l[0])\n",
    "    for i in range(k):\n",
    "        sum=0\n",
    "        for j in range(n):\n",
    "            sum=sum+l[j][i]\n",
    "        m.append(sum)\n",
    "    return max(m)"
   ]
  },
  {
   "cell_type": "code",
   "execution_count": 24,
   "id": "da0dacef",
   "metadata": {},
   "outputs": [
    {
     "data": {
      "text/plain": [
       "3"
      ]
     },
     "execution_count": 24,
     "metadata": {},
     "output_type": "execute_result"
    }
   ],
   "source": [
    "tallest_skyscraper([[0,0,0,0,0,0],\n",
    "                  [0,0,0,1,1,0],\n",
    "                  [0,1,1,1,1,0],\n",
    "                  [1,1,1,1,1,1]])"
   ]
  },
  {
   "cell_type": "code",
   "execution_count": 25,
   "id": "125cfc24",
   "metadata": {},
   "outputs": [
    {
     "data": {
      "text/plain": [
       "4"
      ]
     },
     "execution_count": 25,
     "metadata": {},
     "output_type": "execute_result"
    }
   ],
   "source": [
    "tallest_skyscraper([[0,1,0,0,0],\n",
    "                   [0,1,1,0,0],\n",
    "                   [0,1,1,1,0],\n",
    "                   [1,1,1,1,1]])"
   ]
  },
  {
   "cell_type": "code",
   "execution_count": 37,
   "id": "90c1914f",
   "metadata": {},
   "outputs": [],
   "source": [
    "#4.\n",
    "\n",
    "def bonus(n):\n",
    "    sum=0\n",
    "    if n<=32:\n",
    "        return sum\n",
    "    if n>=33 and n<=40:\n",
    "        for i in range(33,n+1):\n",
    "            sum=sum+325\n",
    "        return sum\n",
    "    if n>=41 and n<=48:\n",
    "        for i in range(33,41):\n",
    "            sum=sum+325\n",
    "        for i in range(41,n+1):\n",
    "            sum=sum+550\n",
    "    if n>=48:\n",
    "        for i in range(33,41):\n",
    "            sum=sum+325\n",
    "        for i in range(41,49):\n",
    "            sum=sum+550\n",
    "        for i in range(49,n+1):\n",
    "            sum=sum+600\n",
    "    return sum"
   ]
  },
  {
   "cell_type": "code",
   "execution_count": 38,
   "id": "6036ecf2",
   "metadata": {},
   "outputs": [
    {
     "data": {
      "text/plain": [
       "5350"
      ]
     },
     "execution_count": 38,
     "metadata": {},
     "output_type": "execute_result"
    }
   ],
   "source": [
    "bonus(45)"
   ]
  },
  {
   "cell_type": "code",
   "execution_count": 39,
   "id": "ff7936de",
   "metadata": {},
   "outputs": [
    {
     "data": {
      "text/plain": [
       "8200"
      ]
     },
     "execution_count": 39,
     "metadata": {},
     "output_type": "execute_result"
    }
   ],
   "source": [
    "bonus(50)"
   ]
  },
  {
   "cell_type": "code",
   "execution_count": 40,
   "id": "69c00b35",
   "metadata": {},
   "outputs": [
    {
     "data": {
      "text/plain": [
       "1625"
      ]
     },
     "execution_count": 40,
     "metadata": {},
     "output_type": "execute_result"
    }
   ],
   "source": [
    "bonus(37)"
   ]
  },
  {
   "cell_type": "code",
   "execution_count": 43,
   "id": "74670f49",
   "metadata": {},
   "outputs": [],
   "source": [
    "#5.\n",
    "\n",
    "def is_disarium(n):\n",
    "    s=str(n)\n",
    "    sum=0\n",
    "    for i in range(len(s)):\n",
    "        sum=sum+int(s[i])**(i+1)\n",
    "    if sum==n:\n",
    "        return True\n",
    "    else:\n",
    "        return False"
   ]
  },
  {
   "cell_type": "code",
   "execution_count": 44,
   "id": "6a159e6f",
   "metadata": {},
   "outputs": [
    {
     "data": {
      "text/plain": [
       "True"
      ]
     },
     "execution_count": 44,
     "metadata": {},
     "output_type": "execute_result"
    }
   ],
   "source": [
    "is_disarium(135)"
   ]
  },
  {
   "cell_type": "code",
   "execution_count": null,
   "id": "a2233f70",
   "metadata": {},
   "outputs": [],
   "source": []
  }
 ],
 "metadata": {
  "kernelspec": {
   "display_name": "Python 3 (ipykernel)",
   "language": "python",
   "name": "python3"
  },
  "language_info": {
   "codemirror_mode": {
    "name": "ipython",
    "version": 3
   },
   "file_extension": ".py",
   "mimetype": "text/x-python",
   "name": "python",
   "nbconvert_exporter": "python",
   "pygments_lexer": "ipython3",
   "version": "3.9.7"
  }
 },
 "nbformat": 4,
 "nbformat_minor": 5
}
