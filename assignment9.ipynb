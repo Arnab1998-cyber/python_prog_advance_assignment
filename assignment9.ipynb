{
 "cells": [
  {
   "cell_type": "code",
   "execution_count": 7,
   "id": "ab9a586e",
   "metadata": {},
   "outputs": [],
   "source": [
    "#2.\n",
    "\n",
    "def pile_of_cubes(m):\n",
    "    n=(-1+(1+8*m**0.5)**0.5)/2\n",
    "    if (n*10)%10==0:\n",
    "        return int(n)\n",
    "    else:\n",
    "        return 'None'"
   ]
  },
  {
   "cell_type": "code",
   "execution_count": 8,
   "id": "9d416fa1",
   "metadata": {},
   "outputs": [
    {
     "data": {
      "text/plain": [
       "2022"
      ]
     },
     "execution_count": 8,
     "metadata": {},
     "output_type": "execute_result"
    }
   ],
   "source": [
    "pile_of_cubes(4183059834009)"
   ]
  },
  {
   "cell_type": "code",
   "execution_count": 9,
   "id": "445c5fda",
   "metadata": {},
   "outputs": [
    {
     "data": {
      "text/plain": [
       "'None'"
      ]
     },
     "execution_count": 9,
     "metadata": {},
     "output_type": "execute_result"
    }
   ],
   "source": [
    "pile_of_cubes(16)"
   ]
  },
  {
   "cell_type": "code",
   "execution_count": 10,
   "id": "5c8bc898",
   "metadata": {},
   "outputs": [
    {
     "data": {
      "text/plain": [
       "45"
      ]
     },
     "execution_count": 10,
     "metadata": {},
     "output_type": "execute_result"
    }
   ],
   "source": [
    "pile_of_cubes(1071225)"
   ]
  },
  {
   "cell_type": "code",
   "execution_count": 34,
   "id": "21c6d403",
   "metadata": {},
   "outputs": [],
   "source": [
    "#3.\n",
    "\n",
    "def find_fulcrum(l):\n",
    "    for i in range(1,len(l)-1):\n",
    "        if sum(l[0:i])==sum(l[i+1:]):\n",
    "            return l[i]\n",
    "    return 'None'"
   ]
  },
  {
   "cell_type": "code",
   "execution_count": 35,
   "id": "b5e5c8e0",
   "metadata": {},
   "outputs": [
    {
     "data": {
      "text/plain": [
       "2"
      ]
     },
     "execution_count": 35,
     "metadata": {},
     "output_type": "execute_result"
    }
   ],
   "source": [
    "find_fulcrum([3,1,5,2,4,6,-1])"
   ]
  },
  {
   "cell_type": "code",
   "execution_count": 36,
   "id": "37e80124",
   "metadata": {},
   "outputs": [
    {
     "data": {
      "text/plain": [
       "4"
      ]
     },
     "execution_count": 36,
     "metadata": {},
     "output_type": "execute_result"
    }
   ],
   "source": [
    "find_fulcrum([1,2,4,9,10,-10,-9,3])"
   ]
  },
  {
   "cell_type": "code",
   "execution_count": 39,
   "id": "eecea5fe",
   "metadata": {},
   "outputs": [
    {
     "data": {
      "text/plain": [
       "'None'"
      ]
     },
     "execution_count": 39,
     "metadata": {},
     "output_type": "execute_result"
    }
   ],
   "source": [
    "find_fulcrum([8,8,8,8])"
   ]
  },
  {
   "cell_type": "code",
   "execution_count": 75,
   "id": "95d23d1d",
   "metadata": {},
   "outputs": [],
   "source": [
    "#4\n",
    "\n",
    "def sock_marchant(l):\n",
    "    pair=0\n",
    "    while len(l)!=0:\n",
    "        n=l.count(l[0])\n",
    "        m=l[0]\n",
    "        pair=pair+n//2\n",
    "        for j in range(n):\n",
    "            l.remove(m)        \n",
    "    return pair"
   ]
  },
  {
   "cell_type": "code",
   "execution_count": 76,
   "id": "79888743",
   "metadata": {},
   "outputs": [
    {
     "data": {
      "text/plain": [
       "2"
      ]
     },
     "execution_count": 76,
     "metadata": {},
     "output_type": "execute_result"
    }
   ],
   "source": [
    "sock_marchant([1,2,1,2,1,3,2])"
   ]
  },
  {
   "cell_type": "code",
   "execution_count": 77,
   "id": "7393b7b8",
   "metadata": {},
   "outputs": [
    {
     "data": {
      "text/plain": [
       "3"
      ]
     },
     "execution_count": 77,
     "metadata": {},
     "output_type": "execute_result"
    }
   ],
   "source": [
    "sock_marchant([10,20,20,10,10,30,50,10,20])\n"
   ]
  },
  {
   "cell_type": "code",
   "execution_count": 78,
   "id": "d4d385a7",
   "metadata": {},
   "outputs": [
    {
     "data": {
      "text/plain": [
       "4"
      ]
     },
     "execution_count": 78,
     "metadata": {},
     "output_type": "execute_result"
    }
   ],
   "source": [
    "sock_marchant([50,20,30,90,30,20,50,20,90])"
   ]
  },
  {
   "cell_type": "code",
   "execution_count": 79,
   "id": "d33eba29",
   "metadata": {},
   "outputs": [
    {
     "data": {
      "text/plain": [
       "0"
      ]
     },
     "execution_count": 79,
     "metadata": {},
     "output_type": "execute_result"
    }
   ],
   "source": [
    "sock_marchant([])"
   ]
  },
  {
   "cell_type": "code",
   "execution_count": null,
   "id": "8771def7",
   "metadata": {},
   "outputs": [],
   "source": [
    "#5.\n",
    "\n",
    "def negetive_sum(s):\n",
    "    \n",
    "            "
   ]
  }
 ],
 "metadata": {
  "kernelspec": {
   "display_name": "Python 3 (ipykernel)",
   "language": "python",
   "name": "python3"
  },
  "language_info": {
   "codemirror_mode": {
    "name": "ipython",
    "version": 3
   },
   "file_extension": ".py",
   "mimetype": "text/x-python",
   "name": "python",
   "nbconvert_exporter": "python",
   "pygments_lexer": "ipython3",
   "version": "3.9.7"
  }
 },
 "nbformat": 4,
 "nbformat_minor": 5
}
